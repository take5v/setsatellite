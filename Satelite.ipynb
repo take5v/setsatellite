{
 "cells": [
  {
   "cell_type": "code",
   "execution_count": null,
   "metadata": {},
   "outputs": [],
   "source": [
    "# imports\n",
    "import numpy as np\n",
    "from skimage import io\n",
    "import skimage.transform\n",
    "import os\n",
    "from tqdm import tqdm\n",
    "\n",
    "import matplotlib.pyplot as plt\n",
    "\n",
    "from data_utils import *\n",
    "\n",
    "from keras_fcn import FCN\n",
    "\n",
    "%load_ext autoreload\n",
    "%autoreload 2\n",
    "\n",
    "from keras import optimizers"
   ]
  },
  {
   "cell_type": "code",
   "execution_count": null,
   "metadata": {},
   "outputs": [],
   "source": [
    "from tensorflow.python.client import device_lib\n",
    "# print(device_lib.list_local_devices())\n",
    "\n",
    "import os\n",
    "# os.environ[\"CUDA_DEVICE_ORDER\"]=\"PCI_BUS_ID\"   # see issue #152\n",
    "os.environ[\"CUDA_VISIBLE_DEVICES\"]=\"1\""
   ]
  },
  {
   "cell_type": "code",
   "execution_count": null,
   "metadata": {},
   "outputs": [],
   "source": [
    "DATASET_DIR = '/mnt/82db778e-0496-450c-9b25-d1e50a90e476/data/data4stas/02_data_segm/'\n",
    "\n",
    "TRAIN_IMG = 'poligon_minsk_1_yandex_z18_train.jpg'\n",
    "TRAIN_MASK = 'poligon_minsk_1_yandex_z18_train.jpg_msk.png'\n",
    "\n",
    "TEST_IMG = 'poligon_minsk_1_yandex_z18_val.jpg'\n",
    "TEST_MASK = 'poligon_minsk_1_yandex_z18_val.jpg_msk.png'"
   ]
  },
  {
   "cell_type": "code",
   "execution_count": null,
   "metadata": {},
   "outputs": [],
   "source": [
    "# train_img = io.imread(DATASET_DIR + TRAIN_IMG).astype('float')\n",
    "train_img = io.imread(DATASET_DIR + TRAIN_IMG)\n",
    "train_mask = io.imread(DATASET_DIR + TRAIN_MASK)\n",
    "\n",
    "test_img = io.imread(DATASET_DIR + TEST_IMG)\n",
    "test_mask = io.imread(DATASET_DIR + TEST_MASK)"
   ]
  },
  {
   "cell_type": "code",
   "execution_count": null,
   "metadata": {},
   "outputs": [],
   "source": [
    "print(train_img.shape)\n",
    "print(train_mask.shape)\n",
    "\n",
    "print(test_img.shape)\n",
    "print(test_mask.shape)"
   ]
  },
  {
   "cell_type": "code",
   "execution_count": null,
   "metadata": {},
   "outputs": [],
   "source": [
    "def sliding_window(image, stride=10, window_size=(20,20)):\n",
    "    \"\"\"Extract patches according to a sliding window.\n",
    "\n",
    "    Args:\n",
    "        image (numpy array): The image to be processed.\n",
    "        stride (int, optional): The sliding window stride (defaults to 10px).\n",
    "        window_size(int, int, optional): The patch size (defaults to (20,20)).\n",
    "\n",
    "    Returns:\n",
    "        list: list of patches with window_size dimensions\n",
    "    \"\"\"\n",
    "    patches = []\n",
    "    # slide a window across the image\n",
    "    for x in range(0, image.shape[0], stride):\n",
    "        for y in range(0, image.shape[1], stride):\n",
    "            new_patch = image[x:x + window_size[0], y:y + window_size[1]]\n",
    "            if new_patch.shape[:2] == window_size:\n",
    "                patches.append(new_patch)\n",
    "    return patches\n",
    "\n",
    "def transform(patch, flip=False, mirror=False, rotations=[]):\n",
    "    \"\"\"Perform data augmentation on a patch.\n",
    "\n",
    "    Args:\n",
    "        patch (numpy array): The patch to be processed.\n",
    "        flip (bool, optional): Up/down symetry.\n",
    "        mirror (bool, optional): left/right symetry.\n",
    "        rotations (int list, optional) : rotations to perform (angles in deg).\n",
    "\n",
    "    Returns:\n",
    "        array list: list of augmented patches\n",
    "    \"\"\"\n",
    "    transformed_patches = [patch]\n",
    "    for angle in rotations:\n",
    "        transformed_patches.append(skimage.img_as_ubyte(skimage.transform.rotate(patch, angle)))\n",
    "    if flip:\n",
    "        transformed_patches.append(np.flipud(patch))\n",
    "    if mirror:\n",
    "        transformed_patches.append(np.fliplr(patch))\n",
    "    return transformed_patches\n",
    "\n",
    "\n",
    "def augmented_sliding_window(patches, flip=False, mirror=False, rotations=[]):\n",
    "    transformed_patches = []\n",
    "    \n",
    "    for patch in patches:\n",
    "        transformed_patches.extend(transform(patch, flip, mirror, rotations))\n",
    "    \n",
    "    return transformed_patches"
   ]
  },
  {
   "cell_type": "code",
   "execution_count": null,
   "metadata": {},
   "outputs": [],
   "source": [
    "# patch_size = 224\n",
    "patch_size = 128\n",
    "stride = patch_size * 3 // 4\n",
    "\n",
    "flip=True\n",
    "mirror = True\n",
    "# rotations = [90]\n",
    "# rotations = [45, 90, 135, 180, 225, 270, 315]\n",
    "rotations = [90, 180, 270]"
   ]
  },
  {
   "cell_type": "code",
   "execution_count": null,
   "metadata": {},
   "outputs": [],
   "source": [
    "train_patches_img = augmented_sliding_window(sliding_window(train_img, stride=stride, window_size=(patch_size, patch_size)), flip, mirror, rotations)\n",
    "train_patches_mask = augmented_sliding_window(sliding_window(train_mask, stride=stride, window_size=(patch_size, patch_size)), flip, mirror, rotations)\n",
    "\n",
    "test_patches_img = sliding_window(test_img, stride=stride, window_size=(patch_size, patch_size))\n",
    "test_patches_mask = sliding_window(test_mask, stride=stride, window_size=(patch_size, patch_size))"
   ]
  },
  {
   "cell_type": "code",
   "execution_count": null,
   "metadata": {},
   "outputs": [],
   "source": [
    "print(len(train_patches_img))\n",
    "print(len(train_patches_mask))\n",
    "\n",
    "print(len(test_patches_img))\n",
    "print(len(test_patches_mask))"
   ]
  },
  {
   "cell_type": "code",
   "execution_count": null,
   "metadata": {},
   "outputs": [],
   "source": [
    "def show(image):\n",
    "    plt.imshow(image)\n",
    "    plt.show()"
   ]
  },
  {
   "cell_type": "code",
   "execution_count": null,
   "metadata": {},
   "outputs": [],
   "source": [
    "[show(train_patches_img[i]) for i in range(0, 11)]"
   ]
  },
  {
   "cell_type": "code",
   "execution_count": null,
   "metadata": {
    "scrolled": true
   },
   "outputs": [],
   "source": [
    "X_train, y_train, X_val, y_val, X_test, y_test = preprocess(train_patches_img, train_patches_mask, test_patches_img, test_patches_mask)"
   ]
  },
  {
   "cell_type": "code",
   "execution_count": null,
   "metadata": {
    "scrolled": true
   },
   "outputs": [],
   "source": [
    "print(X_train.shape)\n",
    "print(y_train.shape)\n",
    "\n",
    "print(X_val.shape)\n",
    "print(y_val.shape)\n",
    "\n",
    "print(X_test.shape)\n",
    "print(y_test.shape)"
   ]
  },
  {
   "cell_type": "code",
   "execution_count": null,
   "metadata": {},
   "outputs": [],
   "source": [
    "X_train_all = np.concatenate((X_train, X_val))\n",
    "y_train_all = np.concatenate((y_train, y_val))"
   ]
  },
  {
   "cell_type": "code",
   "execution_count": null,
   "metadata": {},
   "outputs": [],
   "source": [
    "fcn_vgg16 = FCN(input_shape=(patch_size, patch_size, 3), classes=3,  \n",
    "                weights='None', trainable_encoder=True)\n",
    "\n",
    "sgd = optimizers.SGD(lr=0.001, decay=1e-6, momentum=0.9, nesterov=True)\n",
    "\n",
    "fcn_vgg16.compile(optimizer=sgd,\n",
    "                  loss='categorical_crossentropy',\n",
    "                  metrics=['accuracy'])\n",
    "\n",
    "history = fcn_vgg16.fit(X_train, y_train, batch_size=32, epochs=5, validation_data=(X_val, y_val))"
   ]
  },
  {
   "cell_type": "code",
   "execution_count": null,
   "metadata": {},
   "outputs": [],
   "source": [
    "def plot_history(history):\n",
    "    acc = history.history['acc']\n",
    "    val_acc = history.history.get('val_acc')\n",
    "    loss = history.history['loss']\n",
    "    val_loss = history.history.get('val_loss')\n",
    "\n",
    "    epochs = range(1, len(loss) + 1)\n",
    "\n",
    "    plt.plot(epochs, loss)\n",
    "    if val_loss is not None:\n",
    "        plt.plot(epochs, val_loss)\n",
    "    plt.xlabel('Epochs')\n",
    "    plt.ylabel('Loss')\n",
    "    plt.show()\n",
    "\n",
    "    plt.plot(epochs, acc)\n",
    "    if val_acc is not None:\n",
    "        plt.plot(epochs, val_acc)\n",
    "    plt.xlabel('Epochs')\n",
    "    plt.ylabel('Accuracy')\n",
    "    plt.show()\n",
    "    \n",
    "plot_history(history)"
   ]
  },
  {
   "cell_type": "code",
   "execution_count": null,
   "metadata": {},
   "outputs": [],
   "source": [
    "fcn_vgg16.summary()"
   ]
  },
  {
   "cell_type": "code",
   "execution_count": null,
   "metadata": {},
   "outputs": [],
   "source": [
    "y_pred = fcn_vgg16.predict(X_test)"
   ]
  },
  {
   "cell_type": "code",
   "execution_count": null,
   "metadata": {},
   "outputs": [],
   "source": [
    "y_pred_cls = np.argmax(y_pred, axis=3)"
   ]
  },
  {
   "cell_type": "code",
   "execution_count": null,
   "metadata": {},
   "outputs": [],
   "source": [
    "y_pred_cls.shape"
   ]
  },
  {
   "cell_type": "code",
   "execution_count": null,
   "metadata": {},
   "outputs": [],
   "source": [
    "y_test_cls = np.argmax(y_test, axis=3)"
   ]
  },
  {
   "cell_type": "code",
   "execution_count": null,
   "metadata": {},
   "outputs": [],
   "source": [
    "np.mean(y_test_cls == y_pred_cls)"
   ]
  },
  {
   "cell_type": "code",
   "execution_count": null,
   "metadata": {},
   "outputs": [],
   "source": []
  }
 ],
 "metadata": {
  "kernelspec": {
   "display_name": "Python 3",
   "language": "python",
   "name": "python3"
  },
  "language_info": {
   "codemirror_mode": {
    "name": "ipython",
    "version": 3
   },
   "file_extension": ".py",
   "mimetype": "text/x-python",
   "name": "python",
   "nbconvert_exporter": "python",
   "pygments_lexer": "ipython3",
   "version": "3.5.2"
  }
 },
 "nbformat": 4,
 "nbformat_minor": 2
}
